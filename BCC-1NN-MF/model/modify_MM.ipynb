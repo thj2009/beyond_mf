{
 "cells": [
  {
   "cell_type": "markdown",
   "metadata": {},
   "source": [
    "# Develop neural network modified mean field microkinetic modeling framework"
   ]
  },
  {
   "cell_type": "code",
   "execution_count": 1,
   "metadata": {},
   "outputs": [],
   "source": [
    "import numpy as np\n",
    "import matplotlib.pyplot as plt\n",
    "import casadi as cas"
   ]
  },
  {
   "cell_type": "code",
   "execution_count": 2,
   "metadata": {},
   "outputs": [],
   "source": [
    "Rg = 8.314"
   ]
  },
  {
   "cell_type": "code",
   "execution_count": 3,
   "metadata": {},
   "outputs": [],
   "source": [
    "# Kinetic parameter\n",
    "alpha = 1.6\n",
    "gamma = 0.001\n",
    "kr = 1\n",
    "T = 500\n",
    "eps = 8368       #cal/mol\n",
    "Z = 4          # coordination number\n",
    "omega = 1      # reaction proximity"
   ]
  },
  {
   "cell_type": "code",
   "execution_count": 4,
   "metadata": {},
   "outputs": [],
   "source": [
    "def cal_steadystate(model, betas=np.arange(0, 12, 0.01), restart=20):\n",
    "    opts = dict(t0=0, tf=1e6)\n",
    "    opts[\"abstol\"] = 1e-12\n",
    "    opts[\"reltol\"] = 1e-8\n",
    "    fint = cas.integrator('fint', 'cvodes', model, opts)\n",
    "    \n",
    "    covList = []\n",
    "    for b in betas:\n",
    "        covs = []\n",
    "        for i in range(restart):   # 10 starting points\n",
    "            c0 = np.random.uniform(0, 1)\n",
    "            cc = [c0, np.random.uniform(0, 1) * (1 - c0)]\n",
    "            try:\n",
    "#                 cov = rf(x0=cc, p=b)['x'].full().T[0]\n",
    "                cov = fint(x0=cc, p=b)['xf'].full().T[0]\n",
    "                flag = True\n",
    "                if covs == []:\n",
    "                    flag = True\n",
    "                else:\n",
    "                    for c in covs:\n",
    "                        if np.allclose(c, cov, rtol=1e-06, atol=1e-06):\n",
    "                            flag = False\n",
    "                if flag:\n",
    "                    covs.append(cov)\n",
    "            except:\n",
    "                pass\n",
    "        covList.append(covs)\n",
    "    return covList, betas"
   ]
  },
  {
   "cell_type": "code",
   "execution_count": 5,
   "metadata": {},
   "outputs": [],
   "source": [
    "def cal_steadystate_rf(model, betas=np.arange(0, 12, 0.01), restart=20):\n",
    "    \n",
    "    x, g, p = model['x'], model['g'], model['p']\n",
    "    jac = cas.jacobian(g, x)\n",
    "    \n",
    "    def isstable(sol, beta):\n",
    "        func = cas.Function('func', [x, p], [jac])\n",
    "        j = func(sol, beta)\n",
    "        eigv = np.linalg.eigvals(j)\n",
    "\n",
    "        if (eigv <= 0).all():\n",
    "            return True\n",
    "        else:\n",
    "            return False\n",
    "\n",
    "    opts = {}\n",
    "    opts[\"abstol\"] = 1e-40\n",
    "    opts[\"show_eval_warnings\"] = False\n",
    "    # opts[\"verbose\"] = True\n",
    "#     opts[\"error_on_fail\"] = False\n",
    "    # opts[\"linear_solver\"] = \"csparse\"\n",
    "    \n",
    "    rf = cas.rootfinder('G','newton', model, opts)\n",
    "    covList, stableList = [], []\n",
    "    for b in betas:\n",
    "#         print(\"Beta = %.3f\" % b)\n",
    "        covs, stable = [], []\n",
    "        for i in range(restart):   # 10 starting points\n",
    "            c0 = np.random.uniform(0, 1)\n",
    "            cc = [c0, np.random.uniform(0, 1) * (1 - c0)]\n",
    "            \n",
    "            try:\n",
    "                cov = rf(x0=cc, p=b)['x'].full().T[0]\n",
    "#                 print(b, cov)\n",
    "                flag = True\n",
    "                if covs == []:\n",
    "                    flag = True\n",
    "                else:\n",
    "                    for c in covs:\n",
    "                        if np.allclose(c, cov, rtol=1e-04, atol=1e-04):\n",
    "                            flag = False\n",
    "                if flag and ((np.array(cov) >= -1e-3).all() and (np.array(cov) <= 1).all() and (np.sum(cov) <= 1)):\n",
    "                    # determine the stability of the solution\n",
    "                    stable.append(isstable(cov, b))\n",
    "                    covs.append(cov)\n",
    "            except:\n",
    "                pass\n",
    "        covList.append(covs)\n",
    "        stableList.append(stable)\n",
    "    return covList, betas, stableList\n",
    "\n",
    "\n"
   ]
  },
  {
   "cell_type": "code",
   "execution_count": 6,
   "metadata": {},
   "outputs": [],
   "source": [
    "# plot coverages vs beta\n",
    "\n",
    "def plot_coverage(coverages, betas, index=0, stables=[]):\n",
    "    \n",
    "    fig = plt.figure(dpi=200, figsize=(3, 2.5))\n",
    "    ax  = fig.gca()\n",
    "    if stables != []:\n",
    "        for cov, beta, stab in zip(coverages, betas, stables):\n",
    "            for c, st in zip(cov, stab):\n",
    "                if st:\n",
    "                    ax.plot(beta, c[index], 'ro', ms=4)\n",
    "                else:\n",
    "                    ax.plot(beta, c[index], 'b^', ms=4)\n",
    "    else:\n",
    "        for cov, beta in zip(coverages, betas):\n",
    "            for c in cov:\n",
    "                ax.plot(beta, c[index], 'ro', ms=4)\n",
    "\n",
    "    ax.set_xlabel(r'$\\beta$ (s$^{-1}$)', fontsize=8)\n",
    "    ax.set_ylabel(r'$\\theta_%s$' %index, fontsize=8)\n",
    "    ax.tick_params(which='both', direction='in', labelsize=6)"
   ]
  },
  {
   "cell_type": "markdown",
   "metadata": {},
   "source": [
    "# Mean Field Model\n",
    "\\begin{align}\n",
    "\\frac{d\\theta_{CO}}{dt} &= \\alpha\\theta^* - \\gamma\\theta_{CO} - k_r(2\\theta_{CO}\\theta_{O}) \\\\\n",
    "\\frac{d\\theta_{O}}{dt} &= 2\\beta\\theta^*\\theta^* - k_r(2\\theta_{CO}\\theta_{O})\n",
    "\\end{align}"
   ]
  },
  {
   "cell_type": "code",
   "execution_count": 9,
   "metadata": {},
   "outputs": [],
   "source": [
    "CO = cas.SX.sym('CO', 1)\n",
    "O = cas.SX.sym('O', 1)\n",
    "beta = cas.SX.sym('beta', 1)\n",
    "\n",
    "\n",
    "free = 1 - CO - O\n",
    "dCO = alpha * free \\\n",
    "      - gamma * CO \\\n",
    "      - kr * (Z * CO * O)\n",
    "\n",
    "dO = Z * beta * free * free \\\n",
    "     - kr * (Z * CO * O)\n",
    "\n",
    "x = cas.vertcat(CO, O)\n",
    "dx = cas.vertcat(dCO, dO)\n",
    "\n"
   ]
  },
  {
   "cell_type": "code",
   "execution_count": 19,
   "metadata": {},
   "outputs": [
    {
     "name": "stdout",
     "output_type": "stream",
     "text": [
      "0.001468690848350525\n"
     ]
    }
   ],
   "source": [
    "import time\n",
    "\n",
    "def singleMF():\n",
    "    eqn = dict(x=x, ode=dx, p=beta)\n",
    "    # measure MKM time\n",
    "    opts = dict(t0=0, tf=50)\n",
    "    opts[\"abstol\"] = 1e-12\n",
    "    opts[\"reltol\"] = 1e-8\n",
    "    fint = cas.integrator('fint', 'cvodes', eqn, opts)\n",
    "    xf = fint(x0=[0.9, 0.0], p=[5])\n",
    "\n",
    "n = 10000\n",
    "tic = time.time()\n",
    "\n",
    "for i in range(n):\n",
    "    singleMF()\n",
    "toc = time.time()\n",
    "print((toc - tic) / float(n))"
   ]
  },
  {
   "cell_type": "code",
   "execution_count": null,
   "metadata": {},
   "outputs": [],
   "source": [
    "eqn = dict(x=x, g=dx, p=beta)\n",
    "\n",
    "covlist, betas, stableList = cal_steadystate_rf(eqn)\n",
    "plot_coverage(covlist, betas, index=0, stables=stableList)\n"
   ]
  },
  {
   "cell_type": "code",
   "execution_count": null,
   "metadata": {},
   "outputs": [],
   "source": [
    "# order the list based on beta\n",
    "datas1 = []\n",
    "datas2 = []\n",
    "datas3 = []\n",
    "for covs, beta, stables in zip(covlist, betas, stableList):\n",
    "    for cov, stable in zip(covs, stables):\n",
    "        data = {}\n",
    "        data['coverage'] = list(cov)\n",
    "        data['beta'] = beta\n",
    "        data['stable'] = stable\n",
    "        if stable and cov[0] >= 0.4:\n",
    "            datas1.append(data)\n",
    "        if not stable and cov[0] >= 0.1:\n",
    "            datas2.append(data)\n",
    "        if stable and cov[0] <= 0.5 and cov[0]>= 1e-2:\n",
    "            datas3.append(data)\n",
    "\n",
    "datas = {}\n",
    "datas['stable1'] = datas1\n",
    "datas['stable2'] = datas3\n",
    "datas['unstable'] = datas2\n",
    "# datas = datas1 + datas2[::-1] + datas3\n",
    "import json\n",
    "with open('mf.json', 'w') as fp:\n",
    "    json.dump(datas, fp, indent=4)"
   ]
  },
  {
   "cell_type": "markdown",
   "metadata": {},
   "source": [
    "# Mean field "
   ]
  },
  {
   "cell_type": "code",
   "execution_count": 8,
   "metadata": {},
   "outputs": [],
   "source": [
    "CO = cas.SX.sym('CO', 1)\n",
    "O = cas.SX.sym('O', 1)\n",
    "beta = cas.SX.sym('beta', 1)\n",
    "\n",
    "\n",
    "free = 1 - CO - O\n",
    "dCO = alpha * free \\\n",
    "      - gamma * CO \\\n",
    "      - kr * (Z * CO * O)\n",
    "\n",
    "dO = Z * beta * free * free \\\n",
    "     - kr * (Z * CO * O)\n",
    "\n",
    "x = cas.vertcat(CO, O)\n",
    "dx = cas.vertcat(dCO, dO)\n",
    "\n",
    "ode = dict(x=x, ode=dx, p=beta)"
   ]
  },
  {
   "cell_type": "code",
   "execution_count": 9,
   "metadata": {},
   "outputs": [
    {
     "data": {
      "image/png": "[encoded data removed]",
      "text/plain": [
       "<Figure size 600x500 with 1 Axes>"
      ]
     },
     "metadata": {
      "needs_background": "light"
     },
     "output_type": "display_data"
    }
   ],
   "source": [
    "eqn = dict(x=x, g=dx, p=beta)\n",
    "\n",
    "covlist, betas, stableList = cal_steadystate_rf(eqn)\n",
    "plot_coverage(covlist, betas, index=0, stables=stableList)"
   ]
  },
  {
   "cell_type": "code",
   "execution_count": 10,
   "metadata": {},
   "outputs": [],
   "source": [
    "# order the list based on beta\n",
    "datas1 = []\n",
    "datas2 = []\n",
    "datas3 = []\n",
    "for covs, beta, stables in zip(covlist, betas, stableList):\n",
    "    for cov, stable in zip(covs, stables):\n",
    "        data = {}\n",
    "        data['coverage'] = list(cov)\n",
    "        data['beta'] = beta\n",
    "        data['stable'] = stable\n",
    "        if stable and cov[0] >= 0.4:\n",
    "            datas1.append(data)\n",
    "        if not stable and cov[0] >= 0.1:\n",
    "            datas2.append(data)\n",
    "        if stable and cov[0] <= 0.5 and cov[0]>= 1e-2:\n",
    "            datas3.append(data)\n",
    "\n",
    "datas = {}\n",
    "datas['stable1'] = datas1\n",
    "datas['stable2'] = datas3\n",
    "datas['unstable'] = datas2\n",
    "# datas = datas1 + datas2[::-1] + datas3\n",
    "import json\n",
    "with open('mf.json', 'w') as fp:\n",
    "    json.dump(datas, fp, indent=4)"
   ]
  },
  {
   "cell_type": "markdown",
   "metadata": {},
   "source": [
    "# Mean Field Model with vary Activation barrier\n",
    "\n",
    "\\begin{align}\n",
    "\\frac{d\\theta_{CO}}{dt} &= \\alpha\\theta^* - \\gamma\\theta_{CO}exp(\\frac{\\omega Z\\epsilon}{RT}) - k_r(2\\theta_{CO}\\theta_{O})exp(\\frac{\\omega (Z-1)\\epsilon}{RT}) \\\\\n",
    "\\frac{d\\theta_{O}}{dt} &= 2\\beta{\\theta*}^2 - k_r(2\\theta_{CO}\\theta_{O})exp(\\frac{\\omega (Z-1)\\epsilon}{RT})\n",
    "\\end{align}\n"
   ]
  },
  {
   "cell_type": "code",
   "execution_count": 20,
   "metadata": {},
   "outputs": [],
   "source": [
    "CO = cas.SX.sym('CO', 1)\n",
    "O = cas.SX.sym('O', 1)\n",
    "beta = cas.SX.sym('beta', 1)\n",
    "\n",
    "\n",
    "free = 1 - CO - O\n",
    "dCO = alpha * free \\\n",
    "      - gamma * CO * cas.exp(omega * Z * CO * eps / (Rg * T)) \\\n",
    "      - kr * (Z * CO * O) * cas.exp(omega * (Z - 1) * CO * eps/ (Rg * T))\n",
    "\n",
    "dO = Z * beta * free * free \\\n",
    "     - kr * (Z * CO * O) * cas.exp(omega * (Z - 1) * CO * eps / (Rg * T))\n",
    "\n",
    "x = cas.vertcat(CO, O)\n",
    "dx = cas.vertcat(dCO, dO)\n",
    "\n",
    "ode = dict(x=x, ode=dx, p=beta)"
   ]
  },
  {
   "cell_type": "code",
   "execution_count": 21,
   "metadata": {},
   "outputs": [
    {
     "name": "stdout",
     "output_type": "stream",
     "text": [
      "0.0021077298879623413\n"
     ]
    }
   ],
   "source": [
    "import time\n",
    "\n",
    "def singleMF():\n",
    "    eqn = dict(x=x, ode=dx, p=beta)\n",
    "    # measure MKM time\n",
    "    opts = dict(t0=0, tf=50)\n",
    "    opts[\"abstol\"] = 1e-12\n",
    "    opts[\"reltol\"] = 1e-8\n",
    "    fint = cas.integrator('fint', 'cvodes', eqn, opts)\n",
    "    xf = fint(x0=[0.9, 0.0], p=[5])\n",
    "\n",
    "n = 10000\n",
    "tic = time.time()\n",
    "\n",
    "for i in range(n):\n",
    "    singleMF()\n",
    "toc = time.time()\n",
    "print((toc - tic) / float(n))"
   ]
  },
  {
   "cell_type": "code",
   "execution_count": 12,
   "metadata": {},
   "outputs": [
    {
     "data": {
      "image/png": "[encoded data removed]",
      "text/plain": [
       "<Figure size 600x500 with 1 Axes>"
      ]
     },
     "metadata": {
      "needs_background": "light"
     },
     "output_type": "display_data"
    }
   ],
   "source": [
    "eqn = dict(x=x, g=dx, p=beta)\n",
    "\n",
    "covlist, betas, stableList = cal_steadystate_rf(eqn)\n",
    "plot_coverage(covlist, betas, index=0, stables=stableList)\n",
    "\n"
   ]
  },
  {
   "cell_type": "code",
   "execution_count": 13,
   "metadata": {},
   "outputs": [],
   "source": [
    "# order the list based on beta\n",
    "datas1 = []\n",
    "datas2 = []\n",
    "datas3 = []\n",
    "for covs, beta, stables in zip(covlist, betas, stableList):\n",
    "    for cov, stable in zip(covs, stables):\n",
    "        data = {}\n",
    "        data['coverage'] = list(cov)\n",
    "        data['beta'] = beta\n",
    "        data['stable'] = stable\n",
    "        if stable and cov[0] >= 0.4:\n",
    "            datas1.append(data)\n",
    "        if not stable and cov[0] >= 0.1:\n",
    "            datas2.append(data)\n",
    "        if stable and cov[0] <= 0.5 and cov[0]>= 1e-2:\n",
    "            datas3.append(data)\n",
    "\n",
    "datas = {}\n",
    "datas['stable1'] = datas1\n",
    "datas['stable2'] = datas3\n",
    "datas['unstable'] = datas2\n",
    "# datas = datas1 + datas2[::-1] + datas3\n",
    "import json\n",
    "with open('mf-ea.json', 'w') as fp:\n",
    "    json.dump(datas, fp, indent=4)"
   ]
  },
  {
   "cell_type": "code",
   "execution_count": null,
   "metadata": {},
   "outputs": [],
   "source": [
    "datas2"
   ]
  },
  {
   "cell_type": "code",
   "execution_count": null,
   "metadata": {},
   "outputs": [],
   "source": [
    "# covlist, betas = cal_steadystate(ode)\n",
    "# plot_coverage(covlist, betas, index=0)\n",
    "# plot_coverage(covlist, betas, index=1)"
   ]
  },
  {
   "cell_type": "code",
   "execution_count": null,
   "metadata": {},
   "outputs": [],
   "source": [
    "# # Simulate the system and see when to reach the steady state\n",
    "# b = 1\n",
    "\n",
    "# tspan = np.linspace(0, 5, 1000)\n",
    "\n",
    "# clist = []\n",
    "# for i, t in enumerate(tspan):\n",
    "#     if i == 0:\n",
    "#         c = np.array([0, 0])\n",
    "#     else:\n",
    "#         opts = dict(t0=tspan[i - 1], tf=t)\n",
    "#         fint = cas.integrator('fint', 'cvodes', ode, opts)\n",
    "#         c = fint(x0=c, p=b)['xf']\n",
    "#         c = c.full().T[0]\n",
    "#     clist.append(c)\n",
    "\n",
    "# clist = np.array(clist)"
   ]
  },
  {
   "cell_type": "code",
   "execution_count": null,
   "metadata": {},
   "outputs": [],
   "source": [
    "# fig = plt.figure(dpi=200, figsize=(2.5, 2))\n",
    "# ax = fig.gca()\n",
    "# ax.plot(tspan, clist[:, 0], label=r'$\\theta_{CO}$')\n",
    "# ax.plot(tspan, clist[:, 1], label=r'$\\theta_{O}$')\n",
    "# ax.set_xlabel('time (s)', fontsize=8)\n",
    "# ax.set_ylabel('coverage', fontsize=8)\n",
    "# ax.tick_params(which='both', direction='in', labelsize=6)\n",
    "# ax.legend(fontsize=6)\n",
    "# ax.set_title(r'$\\beta=%.3f$' % b, fontsize=8)"
   ]
  },
  {
   "cell_type": "markdown",
   "metadata": {},
   "source": [
    "# Mean Field Model with modified reaction propensity"
   ]
  },
  {
   "cell_type": "code",
   "execution_count": 22,
   "metadata": {},
   "outputs": [
    {
     "ename": "FileNotFoundError",
     "evalue": "[Errno 2] No such file or directory: 'pce_00.json'",
     "output_type": "error",
     "traceback": [
      "\u001b[0;31m---------------------------------------------------------------------------\u001b[0m",
      "\u001b[0;31mFileNotFoundError\u001b[0m                         Traceback (most recent call last)",
      "\u001b[0;32m<ipython-input-22-09e9e3a04427>\u001b[0m in \u001b[0;36m<module>\u001b[0;34m\u001b[0m\n\u001b[1;32m      2\u001b[0m \u001b[0;32mfrom\u001b[0m \u001b[0mcaslearn\u001b[0m \u001b[0;32mimport\u001b[0m \u001b[0mPCE\u001b[0m\u001b[0;34m,\u001b[0m \u001b[0mload_pce\u001b[0m\u001b[0;34m\u001b[0m\u001b[0;34m\u001b[0m\u001b[0m\n\u001b[1;32m      3\u001b[0m \u001b[0;34m\u001b[0m\u001b[0m\n\u001b[0;32m----> 4\u001b[0;31m \u001b[0mpce00\u001b[0m \u001b[0;34m=\u001b[0m \u001b[0mload_pce\u001b[0m\u001b[0;34m(\u001b[0m\u001b[0;34m'pce_00.json'\u001b[0m\u001b[0;34m)\u001b[0m\u001b[0;34m\u001b[0m\u001b[0;34m\u001b[0m\u001b[0m\n\u001b[0m\u001b[1;32m      5\u001b[0m \u001b[0mpce12\u001b[0m \u001b[0;34m=\u001b[0m \u001b[0mload_pce\u001b[0m\u001b[0;34m(\u001b[0m\u001b[0;34m'pce_12.json'\u001b[0m\u001b[0;34m)\u001b[0m\u001b[0;34m\u001b[0m\u001b[0;34m\u001b[0m\u001b[0m\n\u001b[1;32m      6\u001b[0m \u001b[0;34m\u001b[0m\u001b[0m\n",
      "\u001b[0;32m~/Documents/Python3/caslearn/caslearn/PCE/pce.py\u001b[0m in \u001b[0;36mload_pce\u001b[0;34m(mname)\u001b[0m\n\u001b[1;32m    139\u001b[0m \u001b[0;34m\u001b[0m\u001b[0m\n\u001b[1;32m    140\u001b[0m \u001b[0;32mdef\u001b[0m \u001b[0mload_pce\u001b[0m\u001b[0;34m(\u001b[0m\u001b[0mmname\u001b[0m\u001b[0;34m=\u001b[0m\u001b[0;34m'pce.json'\u001b[0m\u001b[0;34m)\u001b[0m\u001b[0;34m:\u001b[0m\u001b[0;34m\u001b[0m\u001b[0;34m\u001b[0m\u001b[0m\n\u001b[0;32m--> 141\u001b[0;31m     \u001b[0;32mwith\u001b[0m \u001b[0mopen\u001b[0m\u001b[0;34m(\u001b[0m\u001b[0mmname\u001b[0m\u001b[0;34m,\u001b[0m \u001b[0;34m'r'\u001b[0m\u001b[0;34m)\u001b[0m \u001b[0;32mas\u001b[0m \u001b[0mfp\u001b[0m\u001b[0;34m:\u001b[0m\u001b[0;34m\u001b[0m\u001b[0;34m\u001b[0m\u001b[0m\n\u001b[0m\u001b[1;32m    142\u001b[0m         \u001b[0mmodel\u001b[0m \u001b[0;34m=\u001b[0m \u001b[0mjson\u001b[0m\u001b[0;34m.\u001b[0m\u001b[0mload\u001b[0m\u001b[0;34m(\u001b[0m\u001b[0mfp\u001b[0m\u001b[0;34m)\u001b[0m\u001b[0;34m\u001b[0m\u001b[0;34m\u001b[0m\u001b[0m\n\u001b[1;32m    143\u001b[0m     \u001b[0mnvar\u001b[0m \u001b[0;34m=\u001b[0m \u001b[0mmodel\u001b[0m\u001b[0;34m[\u001b[0m\u001b[0;34m'nvar'\u001b[0m\u001b[0;34m]\u001b[0m\u001b[0;34m\u001b[0m\u001b[0;34m\u001b[0m\u001b[0m\n",
      "\u001b[0;31mFileNotFoundError\u001b[0m: [Errno 2] No such file or directory: 'pce_00.json'"
     ]
    }
   ],
   "source": [
    "# load model\n",
    "from caslearn import PCE, load_pce\n",
    "\n",
    "pce00 = load_pce('pce_00.json')\n",
    "pce12 = load_pce('pce_12.json')\n",
    "\n",
    "CO = cas.SX.sym('CO', 1)\n",
    "O = cas.SX.sym('O', 1)\n",
    "beta = cas.SX.sym('beta', 1)\n",
    "\n",
    "xx = cas.vertcat(CO, O)\n",
    "\n",
    "freefree = pce00.initialize(xx)\n",
    "COO = pce12.initialize(xx)\n",
    "\n",
    "# freefree = cas.exp(pce00.initialize(xx))\n",
    "# COO = cas.exp(pce12.initialize(xx))\n",
    "\n",
    "free = 1 - CO - O\n",
    "dCO = alpha * free \\\n",
    "      - gamma * CO * cas.exp(omega * Z * CO * eps / (Rg * T)) \\\n",
    "      -  2 * kr * COO * CO * O * cas.exp(omega * (Z - 1) * CO * eps/ (Rg * T))\n",
    "\n",
    "dO = 4 * beta * freefree * free * free \\\n",
    "     - 2 * kr * COO * CO * O * cas.exp(omega * (Z - 1) * CO * eps / (Rg * T))\n",
    "\n",
    "# dCO = alpha * free \\\n",
    "#       - gamma * CO * cas.exp(omega * Z * CO * eps / (Rg * T)) \\\n",
    "#       - 1 * kr * COO *  cas.exp(omega * (Z - 1) * CO * eps/ (Rg * T))\n",
    "\n",
    "# dO = 2 * beta * freefree  \\\n",
    "#      - 1 * kr * COO * cas.exp(omega * (Z - 1) * CO * eps / (Rg * T))\n",
    "\n",
    "x = cas.vertcat(CO, O)\n",
    "dx = cas.vertcat(dCO, dO)\n",
    "\n",
    "ode = dict(x=x, ode=dx, p=beta)"
   ]
  },
  {
   "cell_type": "code",
   "execution_count": null,
   "metadata": {},
   "outputs": [],
   "source": [
    "omega\n",
    "Z\n",
    "eps"
   ]
  },
  {
   "cell_type": "code",
   "execution_count": null,
   "metadata": {},
   "outputs": [],
   "source": [
    "eqn = dict(x=x, g=dx, p=beta)\n",
    "\n",
    "covlist, betas, stableList = cal_steadystate_rf(eqn)\n",
    "plot_coverage(covlist, betas, index=0, stables=stableList)"
   ]
  },
  {
   "cell_type": "markdown",
   "metadata": {},
   "source": [
    "# Mean field model with modified reaction propensity and activation energy"
   ]
  },
  {
   "cell_type": "code",
   "execution_count": 23,
   "metadata": {},
   "outputs": [
    {
     "ename": "FileNotFoundError",
     "evalue": "[Errno 2] No such file or directory: 'nn_rate_(0, 0).json'",
     "output_type": "error",
     "traceback": [
      "\u001b[0;31m---------------------------------------------------------------------------\u001b[0m",
      "\u001b[0;31mFileNotFoundError\u001b[0m                         Traceback (most recent call last)",
      "\u001b[0;32m<ipython-input-23-4cc6b5ab4aa4>\u001b[0m in \u001b[0;36m<module>\u001b[0;34m\u001b[0m\n\u001b[1;32m      2\u001b[0m \u001b[0;32mfrom\u001b[0m \u001b[0mcaslearn\u001b[0m \u001b[0;32mimport\u001b[0m \u001b[0mNN\u001b[0m\u001b[0;34m,\u001b[0m \u001b[0mload_nn\u001b[0m\u001b[0;34m\u001b[0m\u001b[0;34m\u001b[0m\u001b[0m\n\u001b[1;32m      3\u001b[0m \u001b[0;34m\u001b[0m\u001b[0m\n\u001b[0;32m----> 4\u001b[0;31m \u001b[0mnn_r00\u001b[0m \u001b[0;34m=\u001b[0m \u001b[0mload_nn\u001b[0m\u001b[0;34m(\u001b[0m\u001b[0;34m'nn_rate_(0, 0).json'\u001b[0m\u001b[0;34m)\u001b[0m\u001b[0;34m\u001b[0m\u001b[0;34m\u001b[0m\u001b[0m\n\u001b[0m\u001b[1;32m      5\u001b[0m \u001b[0mnn_r1\u001b[0m \u001b[0;34m=\u001b[0m \u001b[0mload_nn\u001b[0m\u001b[0;34m(\u001b[0m\u001b[0;34m'nn_rate_1.json'\u001b[0m\u001b[0;34m)\u001b[0m\u001b[0;34m\u001b[0m\u001b[0;34m\u001b[0m\u001b[0m\n\u001b[1;32m      6\u001b[0m \u001b[0mnn_r12\u001b[0m \u001b[0;34m=\u001b[0m \u001b[0mload_nn\u001b[0m\u001b[0;34m(\u001b[0m\u001b[0;34m'nn_rate_(1, 2).json'\u001b[0m\u001b[0;34m)\u001b[0m\u001b[0;34m\u001b[0m\u001b[0;34m\u001b[0m\u001b[0m\n",
      "\u001b[0;32m~/Documents/Python3/caslearn/caslearn/NN/nn.py\u001b[0m in \u001b[0;36mload_nn\u001b[0;34m(mname)\u001b[0m\n\u001b[1;32m    174\u001b[0m \u001b[0;34m\u001b[0m\u001b[0m\n\u001b[1;32m    175\u001b[0m \u001b[0;32mdef\u001b[0m \u001b[0mload_nn\u001b[0m\u001b[0;34m(\u001b[0m\u001b[0mmname\u001b[0m\u001b[0;34m=\u001b[0m\u001b[0;34m'nn.json'\u001b[0m\u001b[0;34m)\u001b[0m\u001b[0;34m:\u001b[0m\u001b[0;34m\u001b[0m\u001b[0;34m\u001b[0m\u001b[0m\n\u001b[0;32m--> 176\u001b[0;31m     \u001b[0;32mwith\u001b[0m \u001b[0mopen\u001b[0m\u001b[0;34m(\u001b[0m\u001b[0mmname\u001b[0m\u001b[0;34m,\u001b[0m \u001b[0;34m'r'\u001b[0m\u001b[0;34m)\u001b[0m \u001b[0;32mas\u001b[0m \u001b[0mfp\u001b[0m\u001b[0;34m:\u001b[0m\u001b[0;34m\u001b[0m\u001b[0;34m\u001b[0m\u001b[0m\n\u001b[0m\u001b[1;32m    177\u001b[0m         \u001b[0mmodel\u001b[0m \u001b[0;34m=\u001b[0m \u001b[0mjson\u001b[0m\u001b[0;34m.\u001b[0m\u001b[0mload\u001b[0m\u001b[0;34m(\u001b[0m\u001b[0mfp\u001b[0m\u001b[0;34m)\u001b[0m\u001b[0;34m\u001b[0m\u001b[0;34m\u001b[0m\u001b[0m\n\u001b[1;32m    178\u001b[0m     \u001b[0mnin\u001b[0m \u001b[0;34m=\u001b[0m \u001b[0mmodel\u001b[0m\u001b[0;34m[\u001b[0m\u001b[0;34m'nin'\u001b[0m\u001b[0;34m]\u001b[0m\u001b[0;34m\u001b[0m\u001b[0;34m\u001b[0m\u001b[0m\n",
      "\u001b[0;31mFileNotFoundError\u001b[0m: [Errno 2] No such file or directory: 'nn_rate_(0, 0).json'"
     ]
    }
   ],
   "source": [
    "# load model\n",
    "from caslearn import NN, load_nn\n",
    "\n",
    "nn_r00 = load_nn('nn_rate_(0, 0).json')\n",
    "nn_r1 = load_nn('nn_rate_1.json')\n",
    "nn_r12 = load_nn('nn_rate_(1, 2).json')\n",
    "\n",
    "\n",
    "CO = cas.SX.sym('CO', 1)\n",
    "O = cas.SX.sym('O', 1)\n",
    "beta = cas.SX.sym('beta', 1)\n",
    "\n",
    "xx = cas.vertcat(CO, O, 1 - CO - O)\n",
    "free = 1 - CO - O\n",
    "\n",
    "r00 = nn_r00.initialize(xx)\n",
    "r1 = nn_r1.initialize(xx)\n",
    "r12 = nn_r12.initialize(xx)\n",
    "\n",
    "# freefree = cas.exp(pce00.initialize(xx))\n",
    "# COO = cas.exp(pce12.initialize(xx))\n",
    "\n",
    "\n",
    "dCO = alpha * free \\\n",
    "      - gamma * r1 \\\n",
    "      - 4 * kr * r12\n",
    "\n",
    "dO = 2 * beta * r00 \\\n",
    "     - 4 * kr * r12\n",
    "\n",
    "x = cas.vertcat(CO, O)\n",
    "dx = cas.vertcat(dCO, dO)\n",
    "\n",
    "ode = dict(x=x, ode=dx, p=beta)"
   ]
  },
  {
   "cell_type": "code",
   "execution_count": null,
   "metadata": {},
   "outputs": [],
   "source": [
    "eqn = dict(x=x, g=dx, p=beta)\n",
    "\n",
    "covlist, betas, stableList = cal_steadystate_rf(eqn)\n",
    "plot_coverage(covlist, betas, index=0, stables=stableList)"
   ]
  },
  {
   "cell_type": "markdown",
   "metadata": {},
   "source": [
    "# Mean field with ML-rate\n",
    "\n",
    "\\begin{equation}\n",
    "r = k_0 exp(-\\frac{\\omega \\Delta E_a}{RT})<\\theta_1 \\theta_2> \n",
    "\\end{equation}"
   ]
  },
  {
   "cell_type": "code",
   "execution_count": 24,
   "metadata": {},
   "outputs": [],
   "source": [
    "# load model\n",
    "from caslearn import NN, load_nn\n",
    "\n",
    "nn_r00 = load_nn('nn_lograte_(0, 0).json')\n",
    "nn_r1 = load_nn('nn_lograte_1.json')\n",
    "nn_r12 = load_nn('nn_lograte_(1, 0).json')\n",
    "\n",
    "\n",
    "CO = cas.SX.sym('CO', 1)\n",
    "O = cas.SX.sym('O', 1)\n",
    "beta = cas.SX.sym('beta', 1)\n",
    "\n",
    "xx = cas.vertcat(1 - CO, CO)\n",
    "free = 1 - CO - O\n",
    "\n",
    "r00 = cas.exp(nn_r00.initialize(xx))* free * free\n",
    "r1 = cas.exp(nn_r1.initialize(xx))* CO\n",
    "r12 = cas.exp(nn_r12.initialize(xx))* CO * O\n",
    "\n",
    "# freefree = cas.exp(pce00.initialize(xx))\n",
    "# COO = cas.exp(pce12.initialize(xx))\n",
    "\n",
    "\n",
    "dCO = alpha * free \\\n",
    "      - gamma * r1 \\\n",
    "      - 2 * kr * r12\n",
    "\n",
    "dO = 2 * beta * r00 \\\n",
    "     - 2 * kr * r12\n",
    "\n",
    "x = cas.vertcat(CO, O)\n",
    "dx = cas.vertcat(dCO, dO)\n",
    "\n",
    "ode = dict(x=x, ode=dx, p=beta)"
   ]
  },
  {
   "cell_type": "code",
   "execution_count": 25,
   "metadata": {},
   "outputs": [
    {
     "name": "stdout",
     "output_type": "stream",
     "text": [
      "0.002112331557273865\n"
     ]
    }
   ],
   "source": [
    "import time\n",
    "\n",
    "def singleMF():\n",
    "    eqn = dict(x=x, ode=dx, p=beta)\n",
    "    # measure MKM time\n",
    "    opts = dict(t0=0, tf=50)\n",
    "    opts[\"abstol\"] = 1e-12\n",
    "    opts[\"reltol\"] = 1e-8\n",
    "    fint = cas.integrator('fint', 'cvodes', eqn, opts)\n",
    "    xf = fint(x0=[0.9, 0.0], p=[5])\n",
    "\n",
    "n = 10000\n",
    "tic = time.time()\n",
    "\n",
    "for i in range(n):\n",
    "    singleMF()\n",
    "toc = time.time()\n",
    "print((toc - tic) / float(n))"
   ]
  },
  {
   "cell_type": "code",
   "execution_count": null,
   "metadata": {},
   "outputs": [],
   "source": []
  },
  {
   "cell_type": "code",
   "execution_count": 18,
   "metadata": {},
   "outputs": [
    {
     "data": {
      "image/png": "[encoded data removed]",
      "text/plain": [
       "<Figure size 600x500 with 1 Axes>"
      ]
     },
     "metadata": {
      "needs_background": "light"
     },
     "output_type": "display_data"
    },
    {
     "data": {
      "image/png": "[encoded data removed]",
      "text/plain": [
       "<Figure size 600x500 with 1 Axes>"
      ]
     },
     "metadata": {
      "needs_background": "light"
     },
     "output_type": "display_data"
    }
   ],
   "source": [
    "eqn = dict(x=x, g=dx, p=beta)\n",
    "\n",
    "covlist, betas, stableList = cal_steadystate_rf(eqn)\n",
    "plot_coverage(covlist, betas, index=0, stables=stableList)\n",
    "plot_coverage(covlist, betas, index=1, stables=stableList)\n",
    "\n"
   ]
  },
  {
   "cell_type": "code",
   "execution_count": 9,
   "metadata": {},
   "outputs": [
    {
     "data": {
      "image/png": "[encoded data removed]",
      "text/plain": [
       "<Figure size 600x500 with 1 Axes>"
      ]
     },
     "metadata": {
      "needs_background": "light"
     },
     "output_type": "display_data"
    },
    {
     "data": {
      "image/png": "[encoded data removed]",
      "text/plain": [
       "<Figure size 600x500 with 1 Axes>"
      ]
     },
     "metadata": {
      "needs_background": "light"
     },
     "output_type": "display_data"
    }
   ],
   "source": [
    "eqn = dict(x=x, ode=dx, p=beta)\n",
    "\n",
    "covlist, betas= cal_steadystate(eqn)\n",
    "plot_coverage(covlist, betas, index=0)\n",
    "plot_coverage(covlist, betas, index=1)"
   ]
  },
  {
   "cell_type": "code",
   "execution_count": 19,
   "metadata": {},
   "outputs": [],
   "source": [
    "# order the list based on beta\n",
    "datas1 = []\n",
    "datas2 = []\n",
    "datas3 = []\n",
    "for covs, beta, stables in zip(covlist, betas, stableList):\n",
    "    for cov, stable in zip(covs, stables):\n",
    "        data = {}\n",
    "        data['coverage'] = list(cov)\n",
    "        data['beta'] = beta\n",
    "        data['stable'] = stable\n",
    "        if stable and cov[0] >= 0.4:\n",
    "            datas1.append(data)\n",
    "        if not stable and cov[0] >= 0.1:\n",
    "            datas2.append(data)\n",
    "        if stable and cov[0] <= 0.5 and cov[0]>= 1e-4:\n",
    "            datas3.append(data)\n",
    "datas = {}\n",
    "datas['stable1'] = datas1\n",
    "datas['stable2'] = datas3\n",
    "datas['unstable'] = datas2\n",
    "# datas = datas1 + datas2[::-1] + datas3\n",
    "import json\n",
    "with open('mf-nn.json', 'w') as fp:\n",
    "    json.dump(datas, fp, indent=4)"
   ]
  },
  {
   "cell_type": "code",
   "execution_count": null,
   "metadata": {},
   "outputs": [],
   "source": [
    "datas\n"
   ]
  },
  {
   "cell_type": "code",
   "execution_count": null,
   "metadata": {},
   "outputs": [],
   "source": [
    "# load model\n",
    "from caslearn import PCE, load_pce\n",
    "\n",
    "pce_r00 = load_pce('pce_lograte_(0, 0).json')\n",
    "pce_r1 = load_pce('pce_lograte_1.json')\n",
    "pce_r12 = load_pce('pce_lograte_(1, 2).json')\n",
    "\n",
    "\n",
    "CO = cas.SX.sym('CO', 1)\n",
    "O = cas.SX.sym('O', 1)\n",
    "beta = cas.SX.sym('beta', 1)\n",
    "\n",
    "xx = cas.vertcat(CO, O)\n",
    "free = 1 - CO - O\n",
    "\n",
    "r00 = cas.exp(pce_r00.initialize(xx))* free * free\n",
    "r1 = cas.exp(pce_r1.initialize(xx))* CO\n",
    "r12 = cas.exp(pce_r12.initialize(xx))* CO * O\n",
    "\n",
    "# freefree = cas.exp(pce00.initialize(xx))\n",
    "# COO = cas.exp(pce12.initialize(xx))\n",
    "\n",
    "\n",
    "dCO = alpha * free \\\n",
    "      - gamma * r1 \\\n",
    "      - 4 * kr * r12\n",
    "\n",
    "dO = 2 * beta * r00 \\\n",
    "     - 4 * kr * r12\n",
    "\n",
    "x = cas.vertcat(CO, O)\n",
    "dx = cas.vertcat(dCO, dO)\n",
    "\n",
    "ode = dict(x=x, ode=dx, p=beta)"
   ]
  },
  {
   "cell_type": "code",
   "execution_count": null,
   "metadata": {},
   "outputs": [],
   "source": [
    "eqn = dict(x=x, g=dx, p=beta)\n",
    "\n",
    "covlist, betas, stableList = cal_steadystate_rf(eqn)\n",
    "plot_coverage(covlist, betas, index=0, stables=stableList)\n",
    "plot_coverage(covlist, betas, index=1, stables=stableList)"
   ]
  },
  {
   "cell_type": "code",
   "execution_count": null,
   "metadata": {},
   "outputs": [],
   "source": [
    "eqn = dict(x=x, ode=dx, p=beta)\n",
    "\n",
    "covlist, betas = cal_steadystate(eqn)\n",
    "plot_coverage(covlist, betas, index=0)\n",
    "# plot_coverage(covlist, betas, index=1, stables=stableList)\n"
   ]
  },
  {
   "cell_type": "code",
   "execution_count": null,
   "metadata": {},
   "outputs": [],
   "source": []
  }
 ],
 "metadata": {
  "@webio": {
   "lastCommId": null,
   "lastKernelId": null
  },
  "kernelspec": {
   "display_name": "Python 3",
   "language": "python",
   "name": "python3"
  },
  "language_info": {
   "codemirror_mode": {
    "name": "ipython",
    "version": 3
   },
   "file_extension": ".py",
   "mimetype": "text/x-python",
   "name": "python",
   "nbconvert_exporter": "python",
   "pygments_lexer": "ipython3",
   "version": "3.7.9"
  }
 },
 "nbformat": 4,
 "nbformat_minor": 4
}
