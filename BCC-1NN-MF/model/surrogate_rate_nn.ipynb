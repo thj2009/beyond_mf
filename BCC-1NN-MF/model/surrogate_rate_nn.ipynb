{
 "cells": [
  {
   "cell_type": "markdown",
   "metadata": {},
   "source": [
    "# Build Surrogate model for reaction propensity with casadi"
   ]
  },
  {
   "cell_type": "code",
   "execution_count": 1,
   "metadata": {},
   "outputs": [],
   "source": [
    "import numpy as np\n",
    "import matplotlib.pyplot as plt"
   ]
  },
  {
   "cell_type": "code",
   "execution_count": 2,
   "metadata": {},
   "outputs": [],
   "source": [
    "import h5py\n",
    "import os\n",
    "import sys"
   ]
  },
  {
   "cell_type": "code",
   "execution_count": 3,
   "metadata": {},
   "outputs": [
    {
     "name": "stderr",
     "output_type": "stream",
     "text": [
      "/home/thj2009/bin/miniconda3/envs/py3/lib/python3.7/site-packages/ipykernel_launcher.py:7: H5pyDeprecationWarning: dataset.value has been deprecated. Use dataset[()] instead.\n",
      "  import sys\n",
      "/home/thj2009/bin/miniconda3/envs/py3/lib/python3.7/site-packages/ipykernel_launcher.py:9: H5pyDeprecationWarning: dataset.value has been deprecated. Use dataset[()] instead.\n",
      "  if __name__ == '__main__':\n",
      "/home/thj2009/bin/miniconda3/envs/py3/lib/python3.7/site-packages/ipykernel_launcher.py:10: H5pyDeprecationWarning: dataset.value has been deprecated. Use dataset[()] instead.\n",
      "  # Remove the CWD from sys.path while we load stuff.\n"
     ]
    },
    {
     "name": "stdout",
     "output_type": "stream",
     "text": [
      "rate_0.1528.h5 [0.48003951 0.29128469 1.3968304 ] [0.8472 0.1528]\n",
      "rate_0.2884.h5 [1.4874236  1.20040041 0.87952688] [0.7116 0.2884]\n",
      "rate_0.3808.h5 [2.62018537 3.04499983 0.5309135 ] [0.6192 0.3808]\n",
      "rate_0.8316.h5 [7.51666723e+01 1.26374657e+03 1.00118000e-02] [0.1684 0.8316]\n",
      "rate_0.536.h5 [8.26605440e+00 9.83141472e+01 3.90801500e-02] [0.464 0.536]\n",
      "rate_0.2504.h5 [1.12256072 0.82235198 1.02278007] [0.7496 0.2504]\n",
      "rate_0.0832.h5 [0.20854533 0.11452124 1.66931373] [0.9168 0.0832]\n",
      "rate_0.2648.h5 [1.25047765 0.94513119 0.96831692] [0.7352 0.2648]\n",
      "rate_0.6552.h5 [4.57143956e+01 3.32831390e+02 4.72394000e-02] [0.3448 0.6552]\n",
      "rate_0.2488.h5 [1.11058709 0.81143327 1.02888432] [0.7512 0.2488]\n",
      "rate_0.6568.h5 [4.61724811e+01 3.37887735e+02 4.68765750e-02] [0.3432 0.6568]\n",
      "rate_0.3236.h5 [1.90748974 1.72761885 0.74785332] [0.6764 0.3236]\n",
      "rate_0.9788.h5 [1.67606235e+01 2.84969617e+03 1.21925000e-04] [0.0212 0.9788]\n",
      "rate_0.2736.h5 [1.33767    1.03772141 0.93521017] [0.7264 0.2736]\n",
      "rate_0.508.h5 [ 4.05576082 40.21534673  0.04871415] [0.492 0.508]\n",
      "rate_0.09.h5 [0.23015416 0.12728505 1.64250607] [0.91 0.09]\n",
      "rate_0.482.h5 [ 2.8121728  12.72595736  0.11263957] [0.518 0.482]\n",
      "rate_0.6444.h5 [4.23956386e+01 3.02795358e+02 4.97830250e-02] [0.3556 0.6444]\n",
      "rate_0.9548.h5 [3.32020275e+01 2.53875972e+03 5.87125000e-04] [0.0452 0.9548]\n",
      "rate_0.0928.h5 [0.23842236 0.13248059 1.63306928] [0.9076 0.0924]\n",
      "rate_0.5632.h5 [1.65792456e+01 1.39574469e+02 5.23252250e-02] [0.4368 0.5632]\n",
      "rate_0.6608.h5 [4.74550086e+01 3.49139505e+02 4.61408250e-02] [0.3392 0.6608]\n",
      "rate_0.3616.h5 [2.38615003 2.51588467 0.60619828] [0.6388 0.3612]\n",
      "rate_0.3456.h5 [2.18178769 2.14807845 0.6651165 ] [0.6544 0.3456]\n",
      "rate_0.4752.h5 [ 2.81657781 10.61754629  0.139768  ] [0.5248 0.4752]\n",
      "rate_0.114.h5 [0.31463376 0.17991004 1.5482007 ] [0.886 0.114]\n",
      "rate_0.3144.h5 [1.78893769 1.56778162 0.7822098 ] [0.6856 0.3144]\n",
      "rate_0.0372.h5 [0.0809382  0.04207786 1.853185  ] [0.9632 0.0368]\n",
      "rate_0.138.h5 [0.41290102 0.24483994 1.4544299 ] [0.862 0.138]\n",
      "rate_0.878.h5 [6.74095996e+01 1.67917100e+03 4.88550000e-03] [0.122 0.878]\n",
      "rate_0.0232.h5 [0.0482539  0.0246856  1.90894147] [0.9772 0.0228]\n",
      "rate_0.2328.h5 [0.97732437 0.68802716 1.08954517] [0.7672 0.2328]\n",
      "rate_0.3052.h5 [1.67867532 1.43073299 0.8165913 ] [0.6948 0.3052]\n",
      "rate_0.9096.h5 [5.66752730e+01 2.00732913e+03 2.53870000e-03] [0.0904 0.9096]\n",
      "rate_0.2092.h5 [0.80348122 0.53817015 1.17945967] [0.7908 0.2092]\n",
      "rate_0.3276.h5 [1.95056993 1.78873584 0.73269163] [0.6724 0.3276]\n",
      "rate_0.1876.h5 [0.66640566 0.42865219 1.26234202] [0.8124 0.1876]\n",
      "rate_0.5396.h5 [9.04906709e+00 1.05331571e+02 3.94987000e-02] [0.4604 0.5396]\n",
      "rate_0.088.h5 [0.22390572 0.12365406 1.65039263] [0.912 0.088]\n",
      "rate_0.1728.h5 [0.58100613 0.36402143 1.31935295] [0.8272 0.1728]\n",
      "rate_0.6764.h5 [5.19359556e+01 3.99764611e+02 4.17522000e-02] [0.3236 0.6764]\n",
      "rate_0.2988.h5 [1.60283939 1.33114786 0.84052227] [0.7012 0.2988]\n",
      "rate_0.7992.h5 [7.55478492e+01 1.01982866e+03 1.48541750e-02] [0.2008 0.7992]\n",
      "rate_0.8984.h5 [6.10113671e+01 1.88678136e+03 3.25510000e-03] [0.1016 0.8984]\n",
      "rate_0.0616.h5 [0.145058   0.07757128 1.75472063] [0.9384 0.0616]\n",
      "rate_0.724.h5 [6.45121938e+01 5.88265281e+02 3.03238000e-02] [0.276 0.724]\n",
      "rate_0.6496.h5 [4.40070902e+01 3.17168390e+02 4.86423750e-02] [0.3504 0.6496]\n",
      "rate_0.5816.h5 [2.25252333e+01 1.68375596e+02 5.61117250e-02] [0.4184 0.5816]\n",
      "rate_0.4232.h5 [2.95386804 4.65839761 0.36127805] [0.5768 0.4232]\n"
     ]
    }
   ],
   "source": [
    "directory = '../result/'\n",
    "\n",
    "ks, covs = [], []\n",
    "for filename in os.listdir(directory):\n",
    "    f = h5py.File(os.path.join(directory, filename), \"r\")\n",
    "    \n",
    "    print(filename, f['ks'].value, f['coverage'].value)\n",
    "    \n",
    "    ks.append(f['ks'].value)\n",
    "    covs.append(f['coverage'].value)\n",
    "    f.close()\n",
    "\n",
    "covs = np.array(covs)\n",
    "ks = np.array(ks)"
   ]
  },
  {
   "cell_type": "code",
   "execution_count": null,
   "metadata": {},
   "outputs": [],
   "source": [
    "from caslearn import NN\n",
    "from sklearn.model_selection import train_test_split\n",
    "import matplotlib.pyplot as plt\n",
    "    \n",
    "def trian_NN(X, y):\n",
    "    modelname = 'nn_lograte_' + str(pair_entry[idx]) + '.json'\n",
    "    \n",
    "    # modify the strucutre of neural networks\n",
    "    nn = NN(nin=2, nout=1, nhidden=2, nhDList=[3, 3])\n",
    "\n",
    "    X_train, X_test, y_train, y_test = train_test_split(X, y, test_size=0.2, shuffle=True)\n",
    "\n",
    "    nn.fit([X_train], [y_train])\n",
    "    # nn.save_model(modelname)\n",
    "\n",
    "    y_test_pred = nn.predict(X_test)\n",
    "    y_train_pred = nn.predict(X_train)\n",
    "    # plot err\n",
    "    err = y_test.flatten() - y_test_pred.flatten()\n",
    "    rmse = np.sqrt(np.mean(err ** 2))\n",
    "\n",
    "\n",
    "    fig = plt.figure(dpi=200, figsize=(2.5, 2.5))\n",
    "    ax = fig.gca()\n",
    "    ax.set_aspect('equal')\n",
    "    min_ = np.min(y_test.flatten().tolist() + y_test_pred.flatten().tolist() + y_train.flatten().tolist() + y_train_pred.flatten().tolist())\n",
    "    max_ = np.max(y_test.flatten().tolist() + y_test_pred.flatten().tolist() + y_train.flatten().tolist() + y_train_pred.flatten().tolist())\n",
    "    d = max_ - min_\n",
    "    r = [min_ - 0.05 * d, max_ + 0.05 * d]\n",
    "\n",
    "    ax.plot(y_train, y_train_pred, 'bs', ms=4)\n",
    "    ax.plot(y_test, y_test_pred, 'ro', ms=4)\n",
    "\n",
    "    ax.plot(r, r, 'k:')\n",
    "\n",
    "    ax.text(0.1, 0.85, \"RMSE = %.2e\" % rmse, transform=ax.transAxes)\n",
    "\n",
    "    ax.set_xlim(r)\n",
    "    ax.set_ylim(r)\n",
    "    ax.set_title(pair_entry[idx])\n",
    "    ax.tick_params(which='both', direction='in')\n",
    "    ax.set_xlabel('MC')\n",
    "    ax.set_ylabel('NN')\n",
    "    # fit on overall dataset and save the model\n",
    "    nn.fit([X], [y])\n",
    "    nn.save_model(modelname)"
   ]
  },
  {
   "cell_type": "code",
   "execution_count": null,
   "metadata": {},
   "outputs": [],
   "source": [
    "pair_entry = [(1, 0), (1), (0, 0)]"
   ]
  },
  {
   "cell_type": "code",
   "execution_count": 5,
   "metadata": {},
   "outputs": [],
   "source": [
    "\n",
    "for idx in range(3):\n",
    "\n",
    "    # load the dataset\n",
    "    X, y = [], []\n",
    "    for i in range(len(ks)):\n",
    "        try:\n",
    "            cov1 = covs[i, pair_entry[idx][0]]\n",
    "            cov2 = covs[i, pair_entry[idx][1]]\n",
    "        except:\n",
    "            cov1 = covs[i, pair_entry[idx]]\n",
    "            cov2 = 1\n",
    "        X.append([covs[i, 0], covs[i, 1]])\n",
    "        if ks[i, idx] == 0:\n",
    "            print(\"**************\")\n",
    "            y.append(0)\n",
    "        else:\n",
    "            y.append(np.log(ks[i, idx] / (cov1 * cov2)))\n",
    "\n",
    "    X = np.array(X)\n",
    "    y = np.array(y).reshape(-1, 1)\n",
    "\n",
    "\n",
    "    trian_NN(X, y)\n",
    "\n",
    "\n"
   ]
  }
 ],
 "metadata": {
  "@webio": {
   "lastCommId": null,
   "lastKernelId": null
  },
  "kernelspec": {
   "display_name": "Python 3",
   "language": "python",
   "name": "python3"
  },
  "language_info": {
   "codemirror_mode": {
    "name": "ipython",
    "version": 3
   },
   "file_extension": ".py",
   "mimetype": "text/x-python",
   "name": "python",
   "nbconvert_exporter": "python",
   "pygments_lexer": "ipython3",
   "version": "3.7.9"
  }
 },
 "nbformat": 4,
 "nbformat_minor": 4
}
